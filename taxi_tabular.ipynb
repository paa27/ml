{
 "cells": [
  {
   "cell_type": "markdown",
   "metadata": {},
   "source": [
    "# Tabular RL Agents\n",
    "\n",
    "Implementations of (some) tabular RL agents from Sutton and Barto ***RL: An Introduction***"
   ]
  },
  {
   "cell_type": "code",
   "execution_count": 1,
   "metadata": {
    "ExecuteTime": {
     "end_time": "2020-05-02T20:12:49.917531Z",
     "start_time": "2020-05-02T20:12:49.910931Z"
    }
   },
   "outputs": [],
   "source": [
    "import sys"
   ]
  },
  {
   "cell_type": "code",
   "execution_count": 2,
   "metadata": {
    "ExecuteTime": {
     "end_time": "2020-05-02T20:12:52.238914Z",
     "start_time": "2020-05-02T20:12:50.981445Z"
    }
   },
   "outputs": [],
   "source": [
    "import gym\n",
    "from IPython import display\n",
    "import matplotlib\n",
    "import matplotlib.pyplot as plt\n",
    "import numpy as np\n",
    "from numpy import random\n",
    "from time import sleep"
   ]
  },
  {
   "cell_type": "code",
   "execution_count": 14,
   "metadata": {
    "ExecuteTime": {
     "end_time": "2020-05-02T20:28:03.440312Z",
     "start_time": "2020-05-02T20:28:03.366693Z"
    },
    "code_folding": [
     48,
     77,
     123
    ]
   },
   "outputs": [],
   "source": [
    "'''\n",
    "Agents\n",
    "'''\n",
    "\n",
    "\n",
    "class Agent():\n",
    "    def act(self, state):\n",
    "        pass\n",
    "    def update(self, state, action, reward, next_state, next_action):\n",
    "        pass\n",
    "    def reset_e(self):\n",
    "        pass\n",
    "    def plan(self, n=0):\n",
    "        pass\n",
    "    def reset_q(self):\n",
    "        pass\n",
    "\n",
    "\n",
    "\n",
    "class Sarsa(Agent):\n",
    "    \n",
    "    def __init__(self, env, params = None):\n",
    "        \n",
    "        if params is None:\n",
    "            params = {}\n",
    "        \n",
    "        self.env = env\n",
    "        self.epsilon = params.get('epsilon', 0.1) #Exploration probability\n",
    "        self.alpha = params.get('alpha', 0.01) # Learning rate\n",
    "        self.gamma = params.get('gamma', 1) # Discount rate\n",
    "        \n",
    "        self.q_matrix = np.zeros([self.env.observation_space.n, self.env.action_space.n])\n",
    "        \n",
    "        \n",
    "    def update(self,state,action,reward,next_state,next_action):\n",
    "        \n",
    "        delta = (reward + self.gamma*self.q_matrix[next_state,next_action] - self.q_matrix[state,action])\n",
    "        self.q_matrix[state,action] = self.q_matrix[state,action] + self.alpha*delta\n",
    "        \n",
    "    \n",
    "    def act(self,state):\n",
    "        \n",
    "        if random.uniform(0,1)<self.epsilon:\n",
    "            return env.action_space.sample()\n",
    "\n",
    "        else:\n",
    "            return np.argmax(self.q_matrix[state])     \n",
    "        \n",
    "class QLearn(Agent):\n",
    "    \n",
    "    def __init__(self, env, params = None):\n",
    "        \n",
    "        if params is None:\n",
    "            params = {}\n",
    "        \n",
    "        self.env = env\n",
    "        self.epsilon = params.get('epsilon', 0.1) #Exploration probability\n",
    "        self.alpha = params.get('alpha', 0.01) # Learning rate\n",
    "        self.gamma = params.get('gamma', 1) # Discount rate\n",
    "        \n",
    "        self.q_matrix = np.zeros([self.env.observation_space.n, self.env.action_space.n])\n",
    "        \n",
    "        \n",
    "    def update(self,state,action,reward,next_state,next_action):\n",
    "        \n",
    "        delta = (reward + self.gamma*np.max(self.q_matrix[next_state]) - self.q_matrix[state,action])\n",
    "        self.q_matrix[state,action] = self.q_matrix[state,action] + self.alpha*delta\n",
    "        \n",
    "    \n",
    "    def act(self,state):\n",
    "        \n",
    "        if random.uniform(0,1)<self.epsilon:\n",
    "            return env.action_space.sample()\n",
    "\n",
    "        else:\n",
    "            return np.argmax(self.q_matrix[state]) \n",
    "        \n",
    "class LambdaQLearn(Agent):\n",
    "    \n",
    "    def __init__(self, env, params=None):\n",
    "        \n",
    "        if params is None:\n",
    "            params = {}\n",
    "        \n",
    "        self.env = env\n",
    "        self.epsilon = params.get('epsilon', 0.1) #Exploration probability\n",
    "        self.alpha = params.get('alpha', 0.01) # Learning rate\n",
    "        self.gamma = params.get('gamma', 1) # Discount rate\n",
    "        self.lambda_ = params.get('lambda',0.5) # Eligibility decay\n",
    "        \n",
    "        self.q_matrix = np.zeros([self.env.observation_space.n, self.env.action_space.n])\n",
    "        self.e_matrix = np.zeros([self.env.observation_space.n, self.env.action_space.n])\n",
    "        \n",
    "        \n",
    "    def update(self,state,action,reward,next_state,next_action):\n",
    "        \n",
    "        if self.q_matrix[next_state, next_action] == np.max(self.q_matrix[next_state]):\n",
    "            max_a = next_action\n",
    "        else:\n",
    "            max_a = np.argmax(self.q_matrix[next_state])\n",
    "        \n",
    "        delta = (reward + self.gamma*self.q_matrix[next_state, max_a] - self.q_matrix[state, action])\n",
    "        self.e_matrix[state, action] += 1\n",
    "        \n",
    "        self.q_matrix += self.alpha*delta*self.e_matrix\n",
    "        \n",
    "        if max_a == next_action:\n",
    "            self.e_matrix *= self.gamma*self.lambda_\n",
    "        else:\n",
    "            self.reset_e()\n",
    "        \n",
    "    \n",
    "    def act(self,state):\n",
    "        \n",
    "        if random.uniform(0,1)<self.epsilon:\n",
    "            return env.action_space.sample()\n",
    "\n",
    "        else:\n",
    "            return np.argmax(self.q_matrix[state]) \n",
    "        \n",
    "    def reset_e(self):\n",
    "        self.e_matrix = np.zeros(self.e_matrix.shape)\n",
    "        \n",
    "class DynaQLearn(Agent):\n",
    "    \n",
    "    def __init__(self, env, params = None):\n",
    "            \n",
    "        if params is None:\n",
    "            params = {}\n",
    "            \n",
    "        self.env = env\n",
    "        self.epsilon = params.get('epsilon', 0.1) #Exploration probability\n",
    "        self.alpha = params.get('alpha', 0.01) # Learning rate\n",
    "        self.gamma = params.get('gamma', 1) # Discount rate\n",
    "        \n",
    "        self.q_matrix = np.zeros([self.env.observation_space.n, self.env.action_space.n])\n",
    "        \n",
    "        self.model = np.zeros([self.env.observation_space.n, self.env.action_space.n, 2]) # extra 2 dimensions (R, S')\n",
    "        self.model_bool = np.zeros([self.env.observation_space.n, self.env.action_space.n])\n",
    "        \n",
    "        \n",
    "    def update(self,state,action,reward,next_state,next_action):\n",
    "        \n",
    "        delta = (reward + self.gamma*np.max(self.q_matrix[next_state]) - self.q_matrix[state,action])\n",
    "        self.q_matrix[state,action] += self.alpha*delta\n",
    "        \n",
    "        self.model_bool[state, action] = 1\n",
    "        self.model[state, action, :] = reward, next_state \n",
    "        \n",
    "    \n",
    "    def act(self, state):\n",
    "        \n",
    "        if random.uniform(0,1)<self.epsilon:\n",
    "            return env.action_space.sample()\n",
    "\n",
    "        else:\n",
    "            return np.argmax(self.q_matrix[state]) \n",
    "        \n",
    "    def plan(self, n=1):\n",
    "             \n",
    "        if (self.model_bool.flatten().sum() > n):\n",
    "            for _ in range(n):\n",
    "                nonzero = np.transpose(np.nonzero(self.model_bool))\n",
    "                pstate, paction = nonzero[np.random.choice(nonzero.shape[0])]\n",
    "                preward, pnext_state = self.model[pstate, paction]\n",
    "\n",
    "                pnext_state = int(pnext_state)\n",
    "\n",
    "                pdelta = (preward + self.gamma*np.max(self.q_matrix[pnext_state]) - self.q_matrix[pstate,paction])\n",
    "                self.q_matrix[pstate, paction] +=  self.alpha*pdelta\n",
    "        \n",
    "        \n",
    "        "
   ]
  },
  {
   "cell_type": "code",
   "execution_count": 3,
   "metadata": {
    "ExecuteTime": {
     "end_time": "2020-05-02T20:32:27.069488Z",
     "start_time": "2020-05-02T20:32:27.045436Z"
    }
   },
   "outputs": [
    {
     "ename": "AttributeError",
     "evalue": "module 'gym' has no attribute 'make'",
     "output_type": "error",
     "traceback": [
      "\u001b[0;31m---------------------------------------------------------------------------\u001b[0m",
      "\u001b[0;31mAttributeError\u001b[0m                            Traceback (most recent call last)",
      "\u001b[0;32m<ipython-input-3-2c1eb7309614>\u001b[0m in \u001b[0;36m<module>\u001b[0;34m\u001b[0m\n\u001b[0;32m----> 1\u001b[0;31m \u001b[0menv\u001b[0m \u001b[0;34m=\u001b[0m \u001b[0mgym\u001b[0m\u001b[0;34m.\u001b[0m\u001b[0mmake\u001b[0m\u001b[0;34m(\u001b[0m\u001b[0;34m\"Taxi-v3\"\u001b[0m\u001b[0;34m)\u001b[0m\u001b[0;34m\u001b[0m\u001b[0;34m\u001b[0m\u001b[0m\n\u001b[0m\u001b[1;32m      2\u001b[0m \u001b[0magent\u001b[0m \u001b[0;34m=\u001b[0m \u001b[0mDynaQLearn\u001b[0m\u001b[0;34m(\u001b[0m\u001b[0menv\u001b[0m\u001b[0;34m)\u001b[0m\u001b[0;34m\u001b[0m\u001b[0;34m\u001b[0m\u001b[0m\n",
      "\u001b[0;31mAttributeError\u001b[0m: module 'gym' has no attribute 'make'"
     ]
    }
   ],
   "source": [
    "env = gym.make(\"Taxi-v3\")\n",
    "agent = DynaQLearn(env)"
   ]
  },
  {
   "cell_type": "code",
   "execution_count": 19,
   "metadata": {
    "ExecuteTime": {
     "end_time": "2020-05-02T20:35:39.448480Z",
     "start_time": "2020-05-02T20:32:28.070450Z"
    }
   },
   "outputs": [],
   "source": [
    "train_frames = []\n",
    "episodes = 10000\n",
    "agent.epsilon = 0.1\n",
    "\n",
    "for i in range(episodes):\n",
    "    agent.reset_e()\n",
    "    state = env.reset()\n",
    "    done=False\n",
    "    action = agent.act(state)\n",
    "    \n",
    "    \n",
    "    while not done:        \n",
    "        next_state, reward, done, info = env.step(action)\n",
    "        next_action = agent.act(next_state)\n",
    "        agent.update(state,action,reward,next_state,next_action)\n",
    "        agent.plan(n=10)\n",
    "\n",
    "        train_frames.append({\n",
    "            'frame': env.render(mode='ansi'),\n",
    "            'state': state,\n",
    "            'action': action,\n",
    "            'reward': reward\n",
    "            })\n",
    "        \n",
    "        state = next_state\n",
    "        action = next_action"
   ]
  },
  {
   "cell_type": "code",
   "execution_count": 72,
   "metadata": {
    "ExecuteTime": {
     "end_time": "2020-04-26T14:07:30.232771Z",
     "start_time": "2020-04-26T14:05:48.082739Z"
    }
   },
   "outputs": [
    {
     "name": "stdout",
     "output_type": "stream",
     "text": [
      "+---------+\n",
      "|\u001b[35mR\u001b[0m: | : :G|\n",
      "| : | : : |\n",
      "| : : : : |\n",
      "|\u001b[43m \u001b[0m| : | : |\n",
      "|\u001b[34;1mY\u001b[0m| : |B: |\n",
      "+---------+\n",
      "  (West)\n",
      "\n",
      "-1\n",
      "308\n"
     ]
    }
   ],
   "source": [
    "%matplotlib inline\n",
    "\n",
    "for frame in train_frames[-1000:]:\n",
    "    \n",
    "    display.clear_output(wait=True)\n",
    "    print(frame['frame']) # just update the data\n",
    "    print(frame['reward'])\n",
    "    print(frame['state'])\n",
    "\n",
    "    sleep(.1)\n"
   ]
  },
  {
   "cell_type": "code",
   "execution_count": 20,
   "metadata": {
    "ExecuteTime": {
     "end_time": "2020-05-02T20:36:56.792082Z",
     "start_time": "2020-05-02T20:36:56.636638Z"
    }
   },
   "outputs": [
    {
     "name": "stdout",
     "output_type": "stream",
     "text": [
      "Results after 100 episodes:\n",
      "Average timesteps per episode: 13.37\n",
      "Average penalties per episode: 0.0\n"
     ]
    }
   ],
   "source": [
    "#Evaluate the agent\n",
    "\n",
    "agent.epsilon = 0 #make it greedy\n",
    "\n",
    "total_epochs, total_penalties = 0, 0\n",
    "episodes = 100\n",
    "test_frames = []\n",
    "\n",
    "for _ in range(episodes):\n",
    "    state = env.reset()\n",
    "    epochs, penalties, reward = 0, 0, 0\n",
    "    \n",
    "    done = False\n",
    "    \n",
    "    while not done:\n",
    "        action = agent.act(state)\n",
    "        state, reward, done, info = env.step(action)\n",
    "\n",
    "        if reward == -10:\n",
    "            penalties += 1\n",
    "\n",
    "        epochs += 1\n",
    "        \n",
    "        test_frames.append({\n",
    "            'frame': env.render(mode='ansi'),\n",
    "            'state': state,\n",
    "            'action': action,\n",
    "            'reward': reward\n",
    "            })\n",
    "\n",
    "    total_penalties += penalties\n",
    "    total_epochs += epochs\n",
    "\n",
    "print(f\"Results after {episodes} episodes:\")\n",
    "print(f\"Average timesteps per episode: {total_epochs / episodes}\")\n",
    "print(f\"Average penalties per episode: {total_penalties / episodes}\")"
   ]
  },
  {
   "cell_type": "code",
   "execution_count": 17,
   "metadata": {
    "ExecuteTime": {
     "end_time": "2020-05-02T19:12:31.839222Z",
     "start_time": "2020-05-02T19:10:49.778570Z"
    }
   },
   "outputs": [
    {
     "name": "stdout",
     "output_type": "stream",
     "text": [
      "+---------+\n",
      "|R: | : :\u001b[35m\u001b[34;1m\u001b[43mG\u001b[0m\u001b[0m\u001b[0m|\n",
      "| : | : : |\n",
      "| : : : : |\n",
      "| | : | : |\n",
      "|Y| : |B: |\n",
      "+---------+\n",
      "  (Dropoff)\n",
      "\n",
      "20\n",
      "85\n"
     ]
    }
   ],
   "source": [
    "%matplotlib inline\n",
    "\n",
    "\n",
    "for frame in test_frames[-1000:]:\n",
    "    \n",
    "    display.clear_output(wait=True)\n",
    "    print(frame['frame']) # just update the data\n",
    "    print(frame['reward'])\n",
    "    print(frame['state'])\n",
    "\n",
    "    sleep(.1)\n"
   ]
  },
  {
   "cell_type": "code",
   "execution_count": null,
   "metadata": {},
   "outputs": [],
   "source": []
  }
 ],
 "metadata": {
  "kernelspec": {
   "display_name": "Python 3",
   "language": "python",
   "name": "python3"
  },
  "language_info": {
   "codemirror_mode": {
    "name": "ipython",
    "version": 3
   },
   "file_extension": ".py",
   "mimetype": "text/x-python",
   "name": "python",
   "nbconvert_exporter": "python",
   "pygments_lexer": "ipython3",
   "version": "3.7.6"
  }
 },
 "nbformat": 4,
 "nbformat_minor": 4
}
