{
 "cells": [
  {
   "cell_type": "code",
   "execution_count": 1,
   "metadata": {
    "ExecuteTime": {
     "end_time": "2020-05-01T14:59:52.345560Z",
     "start_time": "2020-05-01T14:59:46.691307Z"
    }
   },
   "outputs": [],
   "source": [
    "from random import choices\n",
    "\n",
    "from IPython import display\n",
    "import matplotlib\n",
    "import matplotlib.pyplot as plt\n",
    "\n",
    "import gym\n",
    "import numpy as np\n",
    "import torch"
   ]
  },
  {
   "cell_type": "code",
   "execution_count": null,
   "metadata": {},
   "outputs": [],
   "source": [
    "class DQN():\n",
    "    '''\n",
    "    Deep Q-Learning Network\n",
    "    \n",
    "    \n",
    "    Vocab:\n",
    "    ------\n",
    "    \n",
    "    observation: immediate info provided by environment\n",
    "    history: accumulation of state,action and observation\n",
    "    state: F(history) to provide always same input length\n",
    "    \n",
    "    '''\n",
    "    def __init__(self,env,hyperparams=None):\n",
    "        self.epsilon = hyperparams.get('epsilon',0.5) #Exploration probability\n",
    "        self.epsilon_min = hyperparams.get('epsilon_min',0.1)\n",
    "        self.alpha = hyperparams.get('alpha',0.01) #Learning rate\n",
    "        self.gamma = hyperparams.get('gamma',1) #Discount rate\n",
    "        \n",
    "        self.replay_capacity = int(hyperparams.get('N',10e2))\n",
    "        self.replay_memory = [] #N x (state,action,reward,next_state)\n",
    "        \n",
    "        self.q = _initialize_cnn()\n",
    "        self.batch_size = hyperparams.get('batch_size',32)\n",
    "        \n",
    "        self.history = []\n",
    "\n",
    "    \n",
    "    def _initialize_cnn(self):\n",
    "        return cnn\n",
    "    \n",
    "    def memorize(self,observation,action,reward,next_observation):\n",
    "        \n",
    "        phi = _phi(self.history)\n",
    "        self.history.append(observation)\n",
    "        next_phi = _phi(self.history)\n",
    "        \n",
    "        self.replay_memory.append([phi,action,reward,next_phi])\n",
    "        self.replay_memory = self.replay_memory[-self.replay_capacity:]     \n",
    "    \n",
    "    def act(self,observation):\n",
    "        '''Epsilon-greedy policy\n",
    "        '''\n",
    "        state = self._phi(self.history)\n",
    "        \n",
    "        if np.random.uniform(0,1)<self.epsilon:\n",
    "            action = env.state_space.sample()\n",
    "        else:\n",
    "            action = max(self.q(state))\n",
    "            \n",
    "        return action\n",
    "    \n",
    "    def learn(self,batch_size=self.batch_size):\n",
    "        \n",
    "        for sample in choices(self.replay_memory,k=batch_size):\n",
    "            \n",
    "        \n",
    "        \n",
    "        pass\n",
    "    \n",
    "    def reset(self):\n",
    "        pass"
   ]
  },
  {
   "cell_type": "code",
   "execution_count": null,
   "metadata": {
    "code_folding": []
   },
   "outputs": [],
   "source": [
    "def _preprocess_frame(frame):\n",
    "    '''\n",
    "    Takes RGB image and returns cnn input.\n",
    "    \n",
    "    Params:\n",
    "    -------\n",
    "\n",
    "    frame: np.array, size: (210, 160, 3)\n",
    "    \n",
    "    Returns:\n",
    "    --------\n",
    "    \n",
    "    np.array, size: (80,80)\n",
    "    \n",
    "    '''\n",
    "    greyscale = np.dot(frame[...,:3], [0.2989, 0.5870, 0.1140]) #(210,160,3) -> (210,160)\n",
    "    #Hard coded for breakout\n",
    "    downsampled = obs_grey[::2,::2] #(210,160) -> (105,80)\n",
    "    squared = obs_down[17:97:,] #(105,80) -> (80,80) , Includes the full 'play area'\n",
    "    \n",
    "    return squared\n",
    "\n",
    "def _phi(history, nframes=4):\n",
    "        '''Extracts current state from learned history\n",
    "        '''\n",
    "        frames = history[-nframes:]\n",
    "        state = [_preprocess_frame(frame) for frame in frames]\n",
    "        return state\n"
   ]
  },
  {
   "cell_type": "code",
   "execution_count": null,
   "metadata": {},
   "outputs": [],
   "source": [
    "def train_dqn(agent,env,episodes):\n",
    "    \n",
    "    metrics = []\n",
    "    frames = []\n",
    "    \n",
    "    for episode in episodes:\n",
    "        observation = env.reset()\n",
    "        done = False\n",
    "        action = agent.act(observation)\n",
    "        \n",
    "        while not done:\n",
    "            next_observation,done,reward,info = env.step(action)\n",
    "            next_action = agent.act(observation)\n",
    "            agent.learn(observation,action,reward,next_observation)\n",
    "            \n",
    "            observation = next_observation\n",
    "            action = next_action\n",
    "            \n",
    "            update_metrics(metrics)\n",
    "            update_frames(frames)\n",
    "            \n",
    "    return metrics,frames\n",
    "            "
   ]
  },
  {
   "cell_type": "code",
   "execution_count": 3,
   "metadata": {
    "ExecuteTime": {
     "end_time": "2020-05-01T15:00:35.263149Z",
     "start_time": "2020-05-01T15:00:23.771967Z"
    }
   },
   "outputs": [],
   "source": [
    "env = gym.make('Breakout-v0')"
   ]
  },
  {
   "cell_type": "code",
   "execution_count": 4,
   "metadata": {
    "ExecuteTime": {
     "end_time": "2020-05-01T15:01:50.001325Z",
     "start_time": "2020-05-01T15:01:36.394001Z"
    }
   },
   "outputs": [
    {
     "data": {
      "image/png": "[encoded data removed]",
      "text/plain": [
       "<Figure size 432x288 with 1 Axes>"
      ]
     },
     "metadata": {
      "needs_background": "light"
     },
     "output_type": "display_data"
    }
   ],
   "source": [
    "%matplotlib inline\n",
    "\n",
    "env.reset()\n",
    "img = plt.imshow(env.render(mode='rgb_array')) # only call this once\n",
    "for _ in range(100):\n",
    "    img.set_data(env.render(mode='rgb_array')) # just update the data\n",
    "    display.display(plt.gcf())\n",
    "    display.clear_output(wait=True)\n",
    "    action = env.action_space.sample()\n",
    "    env.step(action)"
   ]
  },
  {
   "cell_type": "code",
   "execution_count": 7,
   "metadata": {
    "ExecuteTime": {
     "end_time": "2020-05-01T15:09:33.122867Z",
     "start_time": "2020-05-01T15:09:33.089517Z"
    }
   },
   "outputs": [],
   "source": [
    "obs = env.reset()"
   ]
  },
  {
   "cell_type": "code",
   "execution_count": 40,
   "metadata": {
    "ExecuteTime": {
     "end_time": "2020-05-01T15:26:29.525945Z",
     "start_time": "2020-05-01T15:26:29.516167Z"
    }
   },
   "outputs": [],
   "source": [
    "obs_grey = np.dot(obs[...,:3], [0.2989, 0.5870, 0.1140])\n",
    "obs_down = obs_grey[::2,::2]\n",
    "obs_square = obs_down[17:97:,]"
   ]
  },
  {
   "cell_type": "code",
   "execution_count": 41,
   "metadata": {
    "ExecuteTime": {
     "end_time": "2020-05-01T15:26:29.957376Z",
     "start_time": "2020-05-01T15:26:29.948844Z"
    }
   },
   "outputs": [
    {
     "data": {
      "text/plain": [
       "(80, 80)"
      ]
     },
     "execution_count": 41,
     "metadata": {},
     "output_type": "execute_result"
    }
   ],
   "source": [
    "obs_square.shape"
   ]
  },
  {
   "cell_type": "code",
   "execution_count": 42,
   "metadata": {
    "ExecuteTime": {
     "end_time": "2020-05-01T15:26:30.842178Z",
     "start_time": "2020-05-01T15:26:30.576682Z"
    }
   },
   "outputs": [
    {
     "data": {
      "text/plain": [
       "<matplotlib.image.AxesImage at 0x7f7931b933d0>"
      ]
     },
     "execution_count": 42,
     "metadata": {},
     "output_type": "execute_result"
    },
    {
     "data": {
      "image/png": "[encoded data removed]",
      "text/plain": [
       "<Figure size 432x288 with 1 Axes>"
      ]
     },
     "metadata": {
      "needs_background": "light"
     },
     "output_type": "display_data"
    }
   ],
   "source": [
    "plt.imshow(obs_square)"
   ]
  },
  {
   "cell_type": "code",
   "execution_count": null,
   "metadata": {},
   "outputs": [],
   "source": []
  }
 ],
 "metadata": {
  "kernelspec": {
   "display_name": "Python 3",
   "language": "python",
   "name": "python3"
  },
  "language_info": {
   "codemirror_mode": {
    "name": "ipython",
    "version": 3
   },
   "file_extension": ".py",
   "mimetype": "text/x-python",
   "name": "python",
   "nbconvert_exporter": "python",
   "pygments_lexer": "ipython3",
   "version": "3.7.6"
  }
 },
 "nbformat": 4,
 "nbformat_minor": 4
}
